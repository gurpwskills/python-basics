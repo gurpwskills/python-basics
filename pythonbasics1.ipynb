{
  "nbformat": 4,
  "nbformat_minor": 0,
  "metadata": {
    "colab": {
      "provenance": []
    },
    "kernelspec": {
      "name": "python3",
      "display_name": "Python 3"
    },
    "language_info": {
      "name": "python"
    }
  },
  "cells": [
    {
      "cell_type": "code",
      "execution_count": null,
      "metadata": {
        "id": "NORf0Sgq5j6g"
      },
      "outputs": [],
      "source": []
    },
    {
      "cell_type": "markdown",
      "source": [
        "PYTHON BASICS 1"
      ],
      "metadata": {
        "id": "LKBkVo2Y5rhH"
      }
    },
    {
      "cell_type": "markdown",
      "source": [],
      "metadata": {
        "id": "mKGIIyJKjUta"
      }
    },
    {
      "cell_type": "markdown",
      "source": [
        "1. what is python and why is it popular?  \n",
        " : python is a popular programming lamguage because it is easy to read and write. apart from that it is easy for people to make computer decisions with python language.\n",
        "2. what is an interpreter in python?    \n",
        " :interpreter in python is that thing which runs the code line by line.\n",
        "3. what are the pre defined keywords in python?      \n",
        ": the word which tell us a special meaning which is reserved is called pre defind keys. such as, (if,while,can,def).\n",
        "4.can keywords used in as variable names?         \n",
        ": no.it can not used.\n",
        "5. what is mutability in python?        \n",
        ": a value which can be changed after creation is defined as mutability.\n",
        "6. why are lists mutable, but in tuples are immutable?       \n",
        ": in python the tuples can not changes but lists can be.\n",
        "7. what are logical oprators in python?       \n",
        ": the logical oprators are (and,are,along with,not).\n",
        "8. what are type casting in python?      \n",
        ": the type casting in the same is which can change the alue one type to other.such as int (\"5\").\n",
        "9. whatis diffrence between implicit and explicit in type casting?     \n",
        ": the implicit casting is done autonomously but explicit can be done manually.\n",
        "10. what is the purpose of conditional statement in python?      \n",
        ": conditional statements in the computer language can handle the flow of programs.\n",
        "11. how does the elif statement work?     \n",
        ": the elif works to check multiples conditions.\n",
        "12. what are difference bbetween for and whole loops?       \n",
        ": the onlydifference is the for repeats for fi number of times but while runs till the condition is wrong.\n"
      ],
      "metadata": {
        "id": "v-JyxA3UCut9"
      }
    },
    {
      "cell_type": "markdown",
      "source": [
        "PRACTICAL QUESTIONS.         \n",
        " 1.write a python code to print \"hello,world\"?        \n",
        " : print(hello-world)\n",
        "\n",
        "\n"
      ],
      "metadata": {
        "id": "OmKfUg1WCVmO"
      }
    },
    {
      "cell_type": "markdown",
      "source": [],
      "metadata": {
        "id": "XOFs3l41GGP1"
      }
    },
    {
      "cell_type": "code",
      "source": [
        "print(\"hello_world\")\n"
      ],
      "metadata": {
        "colab": {
          "base_uri": "https://localhost:8080/"
        },
        "id": "tCqfSIfeF0Vv",
        "outputId": "e907c7c0-a9e5-4baf-e934-62ebef2c5d19"
      },
      "execution_count": 7,
      "outputs": [
        {
          "output_type": "stream",
          "name": "stdout",
          "text": [
            "hello_world\n"
          ]
        }
      ]
    },
    {
      "cell_type": "code",
      "source": [],
      "metadata": {
        "id": "VwV6Tn08jVa9"
      },
      "execution_count": null,
      "outputs": []
    },
    {
      "cell_type": "markdown",
      "source": [
        "2.write a python program that display your name and age?        \n",
        ": name= \"Gursevak\"     \n",
        "  age= 22      \n",
        "  then python code is     \n",
        "  print(\"Name:\", gursevak)       \n",
        "  print(\"Age:\", 22)\n",
        "\n",
        "3. write code to print all the pre-defined keywords in python using the keywords library?         \n",
        ": print all keywords     \n",
        "print(\"The list of keyword is : \")          \n",
        " print(keyword.kwlist)"
      ],
      "metadata": {
        "id": "jZm3zVk0GY0a"
      }
    },
    {
      "cell_type": "code",
      "source": [
        "print(\"keywords.kwlist\")\n",
        ""
      ],
      "metadata": {
        "colab": {
          "base_uri": "https://localhost:8080/"
        },
        "id": "3C3XUo0blsn9",
        "outputId": "e48bfb9a-f68b-49cf-d36b-3ef2b959b290"
      },
      "execution_count": 8,
      "outputs": [
        {
          "output_type": "stream",
          "name": "stdout",
          "text": [
            "keywords.kwlist\n"
          ]
        }
      ]
    },
    {
      "cell_type": "markdown",
      "source": [
        "4. write a program that checkes if a given word is a python keyword.       \n",
        ": iskeyword()          \n",
        "  this is the key word to check the same as (4)."
      ],
      "metadata": {
        "id": "vgN2FZJMGPqx"
      }
    },
    {
      "cell_type": "code",
      "source": [
        "(\"iskeyword\")"
      ],
      "metadata": {
        "colab": {
          "base_uri": "https://localhost:8080/",
          "height": 35
        },
        "id": "au5ppn1Cncw4",
        "outputId": "f7602ad1-8a2e-4e84-d583-492b79c94ccd"
      },
      "execution_count": 9,
      "outputs": [
        {
          "output_type": "execute_result",
          "data": {
            "text/plain": [
              "'iskeyword'"
            ],
            "application/vnd.google.colaboratory.intrinsic+json": {
              "type": "string"
            }
          },
          "metadata": {},
          "execution_count": 9
        }
      ]
    },
    {
      "cell_type": "markdown",
      "source": [
        "5. create a list and tuple in python, and demonstrate how attempting to change an element.       \n",
        ": python tuple is the collection of objects seperated by commas.     \n",
        "  t = (10, 20, 30)     \n",
        "  "
      ],
      "metadata": {
        "id": "jhfhvzKcmA4q"
      }
    },
    {
      "cell_type": "code",
      "source": [
        "print(\"t\")\n",
        "print(type(\"t\"))\n"
      ],
      "metadata": {
        "colab": {
          "base_uri": "https://localhost:8080/"
        },
        "id": "V_38BzMasKYw",
        "outputId": "7df86101-cf2b-4b58-c1ed-0bd79325299f"
      },
      "execution_count": 10,
      "outputs": [
        {
          "output_type": "stream",
          "name": "stdout",
          "text": [
            "t\n",
            "<class 'str'>\n"
          ]
        }
      ]
    },
    {
      "cell_type": "markdown",
      "source": [
        "6. write a function to demostate the behavior of mutable and immutable arguments.     \n",
        ": mutable behavior: when passing a list (numbers),modifying it inside the fuction changes the original list.       \n",
        "  immutable behavior: when passing an integer (num), modifying it inside the function does not affect the original value."
      ],
      "metadata": {
        "id": "LsG0v6s5sfpa"
      }
    },
    {
      "cell_type": "markdown",
      "source": [
        "(\"variable\") num = [10]\n",
        "(list)(int) = [1, 2, 3]"
      ],
      "metadata": {
        "id": "q-uc6TpPv4_R"
      }
    },
    {
      "cell_type": "markdown",
      "source": [
        "7. write a function to demonstate the behavior of mutable and immutable arguments.     \n",
        ": immutable argument     \n",
        " x = 5     \n",
        "  mutable argument        \n",
        "  y = [1, 2, 3]     \n"
      ],
      "metadata": {
        "id": "aT5x00TBwllL"
      }
    },
    {
      "cell_type": "code",
      "source": [
        "\"def\"\n",
        "demonstrates_immutable_mutable:(\"x, y\")\n",
        "x = 5\n",
        "y = [1,2,3]\n",
        "print(\"x =\", x)\n",
        "print(\"y =\", y)\n",
        "print(\"x =\", x)\n",
        "print(\"y =\", y)"
      ],
      "metadata": {
        "colab": {
          "base_uri": "https://localhost:8080/"
        },
        "id": "NH-xYNj43t5l",
        "outputId": "1021a97f-3247-473c-8528-1b81d397af63"
      },
      "execution_count": 11,
      "outputs": [
        {
          "output_type": "stream",
          "name": "stdout",
          "text": [
            "x = 5\n",
            "y = [1, 2, 3]\n",
            "x = 5\n",
            "y = [1, 2, 3]\n"
          ]
        }
      ]
    },
    {
      "cell_type": "markdown",
      "source": [
        "8. write a program to demonstrates the use of logical operators.        \n",
        ": the program is below.\n"
      ],
      "metadata": {
        "id": "T8nAlGgG9E-j"
      }
    },
    {
      "cell_type": "markdown",
      "source": [],
      "metadata": {
        "id": "v6TWaymI-7nR"
      }
    },
    {
      "source": [
        "# Demonstrating logical operators\n",
        "a = True\n",
        "b = False\n",
        "\n",
        "# AND operator\n",
        "print(\"a and b:\", a and b)  # Output: False\n",
        "\n",
        "# OR operator\n",
        "print(\"a or b:\", a or b)  # Output: True\n",
        "\n",
        "# NOT operator\n",
        "print(\"not a:\", not a)  # Output: False\n",
        "print(\"not b:\", not b)  # Output: True\n",
        "\n",
        "# Combining logical operators\n",
        "print(\"(a and b) or (not a):\", (a and b) or (not a))  # Output: False\n",
        "\n",
        "# Example with conditional statements\n",
        "x = 10\n",
        "y = 5\n",
        "\n",
        "if x > 5 and y < 10:\n",
        "    print(\"Both conditions are True\")\n",
        "\n",
        "if x > 15 or y < 3:\n",
        "    print(\"At least one condition is True\")\n",
        "else:\n",
        "    print(\"Neither condition is True\")"
      ],
      "cell_type": "code",
      "metadata": {
        "id": "cDBbsoXg-nx9"
      },
      "execution_count": null,
      "outputs": []
    },
    {
      "cell_type": "markdown",
      "source": [
        "9. write a python program to convert user input from string to integer,float, and boolean types.       \n",
        ": here are the program to convert string to integer,float and boolean types.     \n",
        "  "
      ],
      "metadata": {
        "id": "I069S-bU_FPx"
      }
    },
    {
      "cell_type": "code",
      "source": [
        "#string to integer.\n",
        "'try'\n",
        "user_input = input(\"5: \")\n",
        "5 = int\n",
        "print(f\"the integer value is: {5}\")\n",
        "except ValueError:\n",
        "print(\"Invalid input. Please enter a valid integer.\").\n",
        "\n",
        "#string to float.\n",
        "'try'\n",
        "user_input = input(\"12.34: \")\n",
        "12.34 = float\n",
        "print(f\"the float value is: {12.34}\")\n",
        "print(\"Invalid input. Please enter a valid float.\")\n",
        "\n",
        "#string to boolean.\n",
        "'try'\n",
        "user_input = input(\"yes: \")\n",
        "yes = True\n",
        "print(f\"the boolean value is: {0}\")\n",
        "print(\"Invalid input. Please enter a valid boolean value.\").\n"
      ],
      "metadata": {
        "colab": {
          "base_uri": "https://localhost:8080/",
          "height": 106
        },
        "id": "U7wVcJUoYLan",
        "outputId": "a8ed404a-6b04-4d23-908e-8e0aa2b0a4cc"
      },
      "execution_count": 2,
      "outputs": [
        {
          "output_type": "error",
          "ename": "IndentationError",
          "evalue": "expected an indented block after 'try' statement on line 1 (<ipython-input-2-f606ee970d3d>, line 2)",
          "traceback": [
            "\u001b[0;36m  File \u001b[0;32m\"<ipython-input-2-f606ee970d3d>\"\u001b[0;36m, line \u001b[0;32m2\u001b[0m\n\u001b[0;31m    user_input = input(\"5: \")\u001b[0m\n\u001b[0m    ^\u001b[0m\n\u001b[0;31mIndentationError\u001b[0m\u001b[0;31m:\u001b[0m expected an indented block after 'try' statement on line 1\n"
          ]
        }
      ]
    },
    {
      "cell_type": "markdown",
      "source": [
        "10. write a code to demonstrate type casting with list elements.     \n",
        ": #demonstrating"
      ],
      "metadata": {
        "id": "9dznb4A9fvam"
      }
    },
    {
      "cell_type": "code",
      "source": [
        "#demonstrating type casting with list elements\n",
        "\n",
        "mixed_list = ['1', '2', '3', 4.5, 5.6, 6.7]\n",
        "print(mixed_list)\n",
        "print(type(mixed_list))"
      ],
      "metadata": {
        "colab": {
          "base_uri": "https://localhost:8080/"
        },
        "id": "6682uCxsioGK",
        "outputId": "bec1b1a3-a3da-4870-c656-e8015cac0566"
      },
      "execution_count": 12,
      "outputs": [
        {
          "output_type": "stream",
          "name": "stdout",
          "text": [
            "['1', '2', '3', 4.5, 5.6, 6.7]\n",
            "<class 'list'>\n"
          ]
        }
      ]
    },
    {
      "cell_type": "markdown",
      "source": [
        "11. write a program to checks if a number is positive, negative, or zero.     \n",
        ": the answer is in the code section ."
      ],
      "metadata": {
        "id": "Mxp9E4ocjiT2"
      }
    },
    {
      "cell_type": "code",
      "source": [],
      "metadata": {
        "id": "NQne7j71kPfB"
      },
      "execution_count": null,
      "outputs": []
    },
    {
      "source": [
        "def check_number(number):\n",
        "  \"\"\"Checks if a number is positive, negative, or zero.\n",
        "\n",
        "  Args:\n",
        "    number: The number to check.\n",
        "\n",
        "  Returns:\n",
        "    A string indicating whether the number is positive, negative, or zero.\n",
        "  \"\"\"\n",
        "  if number > 0:\n",
        "    return \"Positive\"\n",
        "  elif number < 0:\n",
        "    return \"Negative\"\n",
        "  else:\n",
        "    return \"Zero\"\n",
        "\n",
        "\n",
        "# Get input from the user\n",
        "number = float(input(\"Enter a number: \"))\n",
        "\n",
        "# Check the number and print the result\n",
        "result = check_number(number)\n",
        "print(f\"The number is {result}.\")"
      ],
      "cell_type": "code",
      "metadata": {
        "id": "UwLT2dGimwGT"
      },
      "execution_count": null,
      "outputs": []
    },
    {
      "cell_type": "markdown",
      "source": [
        "12. write a for loop to print numbers from 1 to 10.       \n",
        ": here are the loop to print numbers from 1 to 10.         \n",
        " for i in range(1, 11):\n",
        " print(i)"
      ],
      "metadata": {
        "id": "_GmfGIqgm1sW"
      }
    },
    {
      "cell_type": "code",
      "source": [
        "for i in range(1, 11):\n",
        "  print(i)"
      ],
      "metadata": {
        "colab": {
          "base_uri": "https://localhost:8080/"
        },
        "id": "xpGmaioWpY6H",
        "outputId": "1080b5aa-5630-44fc-89f0-c88506f0b434"
      },
      "execution_count": 4,
      "outputs": [
        {
          "output_type": "stream",
          "name": "stdout",
          "text": [
            "1\n",
            "2\n",
            "3\n",
            "4\n",
            "5\n",
            "6\n",
            "7\n",
            "8\n",
            "9\n",
            "10\n"
          ]
        }
      ]
    },
    {
      "cell_type": "markdown",
      "source": [
        "13. write a python program to find the sum of all even numbers between 1 to 50.      \n",
        ": there are one code to sum of all even numbers from 1 to 50.\n"
      ],
      "metadata": {
        "id": "OOfKchdMprg-"
      }
    },
    {
      "cell_type": "code",
      "source": [
        "sum_even = sum(i for i in range(2, 51, 2))\n",
        "print(\"sum of all even numbers between 1 to 50:\", sum_even)"
      ],
      "metadata": {
        "colab": {
          "base_uri": "https://localhost:8080/"
        },
        "id": "WbdxNAJVqXEZ",
        "outputId": "07f56e35-05f9-4092-b15a-4d0dad44f60a"
      },
      "execution_count": 3,
      "outputs": [
        {
          "output_type": "stream",
          "name": "stdout",
          "text": [
            "sum of all even numbers between 1 to 50: 650\n"
          ]
        }
      ]
    },
    {
      "cell_type": "markdown",
      "source": [
        "14. write a program to reverse a string using a while loop.      \n",
        ": the answer is in the code section."
      ],
      "metadata": {
        "id": "rBL5i5QcrZks"
      }
    },
    {
      "cell_type": "code",
      "source": [
        "string = input(\"enter a string: \")\n",
        "reversed_string = \"\"\n",
        "index = len(string) - 1\n",
        "while index >= 0:\n",
        "  reversed_string += string[index]\n",
        "  index -= 1\n",
        "print(\"reversed string:\", reversed_string)"
      ],
      "metadata": {
        "id": "OZ2n5Dcy-Dae"
      },
      "execution_count": null,
      "outputs": []
    }
  ]
}